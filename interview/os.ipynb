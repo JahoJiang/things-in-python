{
 "cells": [
  {
   "cell_type": "markdown",
   "metadata": {},
   "source": [
    "### 1. 进程？线程？\n",
    "\n",
    "### 2. 进程状态？\n",
    "\n",
    "### 3. 线程状态？\n",
    "\n",
    "### 4. 多进程？调度算法？哪些应用？\n",
    "\n",
    "### 5. 多线程？\n",
    "\n",
    "### 6. 异步 I/O\n",
    "\n",
    "### 7. 内存虚拟化？分段和分页"
   ]
  }
 ],
 "metadata": {
  "kernelspec": {
   "display_name": "Python 3",
   "language": "python",
   "name": "python3"
  },
  "language_info": {
   "codemirror_mode": {
    "name": "ipython",
    "version": 3
   },
   "file_extension": ".py",
   "mimetype": "text/x-python",
   "name": "python",
   "nbconvert_exporter": "python",
   "pygments_lexer": "ipython3",
   "version": "3.7.4"
  }
 },
 "nbformat": 4,
 "nbformat_minor": 4
}
