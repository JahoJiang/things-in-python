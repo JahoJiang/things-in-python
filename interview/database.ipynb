{
 "cells": [
  {
   "cell_type": "markdown",
   "metadata": {},
   "source": [
    "### 1. 索引有哪些数据结构？\n",
    "\n",
    "### 2. 索引有哪些类型？\n",
    "\n",
    "#### 2.1 多列索引\n",
    "\n",
    "#### 2.2 覆盖索引\n",
    "\n",
    "#### 2.3 二级索引\n",
    "\n",
    "### 3. MySQL 的逻辑架构？\n",
    "\n",
    "### 4. 事务的特点？隔离级别？\n",
    "\n",
    "### 5. MySQL 的事务是如何实现的？\n",
    "\n",
    "### 6. MVCC 原理？\n",
    "\n",
    "### 7. 主从复制原理？\n",
    "\n",
    "### 8. 如何实现备份？\n",
    "\n",
    "### 9. 如何查看SQL使用了哪些索引\n",
    "\n",
    "### 10. SQL 如何优化？LIMIT 几万行怎么办？\n",
    "\n",
    "### 11.  乐观锁，悲观锁，表锁，行锁\n",
    "\n",
    "### 12. 分布式事务如何实现？"
   ]
  }
 ],
 "metadata": {
  "kernelspec": {
   "display_name": "Python 3",
   "language": "python",
   "name": "python3"
  },
  "language_info": {
   "codemirror_mode": {
    "name": "ipython",
    "version": 3
   },
   "file_extension": ".py",
   "mimetype": "text/x-python",
   "name": "python",
   "nbconvert_exporter": "python",
   "pygments_lexer": "ipython3",
   "version": "3.7.4"
  }
 },
 "nbformat": 4,
 "nbformat_minor": 4
}
