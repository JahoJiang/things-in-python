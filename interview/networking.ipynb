{
 "cells": [
  {
   "cell_type": "markdown",
   "metadata": {},
   "source": [
    "### 1. TCP\n",
    "\n",
    "#### 1.1 TCP 与 UDP 的区别？\n",
    "\n",
    "#### 1.2 TCP 的握手? 什么是四次握手？\n",
    "\n",
    "#### 1.3 TCP 的挥手？TIME_WAIT 的意义？\n",
    "\n",
    "#### 1.4 DDOS 攻击\n",
    "\n",
    "### 2. 详解 HTTP\n",
    "\n",
    "#### 2.1 URL 的格式详解\n",
    "\n",
    "#### 2.2 GET 的请求和响应格式，URL格式\n",
    "\n",
    "#### 2.3 POST 的请求和响应格式，URL格式\n",
    "\n",
    "#### 2.4 常见的 Header\n",
    "\n",
    "#### 2.5 Session 和 Cookie\n",
    "\n",
    "### 3. DNS\n",
    "\n",
    "\n",
    "### 4. HTTPS 的过程简介？证书如何确保安全？\n",
    "\n",
    "### 5. WebSocket？\n",
    "\n",
    "### 6. 从输入URL到完成响应的一系列过程\n"
   ]
  }
 ],
 "metadata": {
  "kernelspec": {
   "display_name": "Python 3",
   "language": "python",
   "name": "python3"
  },
  "language_info": {
   "codemirror_mode": {
    "name": "ipython",
    "version": 3
   },
   "file_extension": ".py",
   "mimetype": "text/x-python",
   "name": "python",
   "nbconvert_exporter": "python",
   "pygments_lexer": "ipython3",
   "version": "3.7.4"
  }
 },
 "nbformat": 4,
 "nbformat_minor": 4
}
