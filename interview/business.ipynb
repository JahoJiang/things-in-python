{
 "cells": [
  {
   "cell_type": "markdown",
   "metadata": {},
   "source": [
    "### 1. AILA\n",
    "#### 1.1 数据如何获取的？如何处理的？如何储存的？\n",
    "#### 1.2 算法的大致框架\n",
    "#### 1.3 访问量很大怎么办\n",
    "\n",
    "### 2. 设计\n",
    "\n",
    "#### 2.1 设计一个请求响应系统\n",
    "#### 2.2 有一个 API 反应很慢怎么办？队列？超时？\n",
    "#### 2.3 如何设计一个缓存？"
   ]
  }
 ],
 "metadata": {
  "kernelspec": {
   "display_name": "Python 3",
   "language": "python",
   "name": "python3"
  },
  "language_info": {
   "codemirror_mode": {
    "name": "ipython",
    "version": 3
   },
   "file_extension": ".py",
   "mimetype": "text/x-python",
   "name": "python",
   "nbconvert_exporter": "python",
   "pygments_lexer": "ipython3",
   "version": "3.7.4"
  }
 },
 "nbformat": 4,
 "nbformat_minor": 4
}
