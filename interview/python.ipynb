{
 "cells": [
  {
   "cell_type": "markdown",
   "metadata": {},
   "source": [
    "### 1. GIL？还有线程安全的问题吗？\n",
    "\n",
    "\n",
    "### 2. 装饰器？\n",
    "\n",
    "### 3. 描述符？\n",
    "\n",
    "### 4. 元类？\n",
    "\n",
    "### 5. 如何优化代码\n",
    "\n",
    "### 6. 有哪些运算符重载函数？\n",
    "\n",
    "### 7. flask 如何处理上下文的？\n",
    "\n",
    "### 8. 协程的概念？\n",
    "\n",
    "### 9. ORM工具？"
   ]
  }
 ],
 "metadata": {
  "kernelspec": {
   "display_name": "Python 3",
   "language": "python",
   "name": "python3"
  },
  "language_info": {
   "codemirror_mode": {
    "name": "ipython",
    "version": 3
   },
   "file_extension": ".py",
   "mimetype": "text/x-python",
   "name": "python",
   "nbconvert_exporter": "python",
   "pygments_lexer": "ipython3",
   "version": "3.7.4"
  }
 },
 "nbformat": 4,
 "nbformat_minor": 4
}
