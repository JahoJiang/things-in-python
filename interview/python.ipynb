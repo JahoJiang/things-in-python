{
 "cells": [
  {
   "cell_type": "markdown",
   "metadata": {},
   "source": [
    "### 1. GIL\n",
    "\n",
    "GIL(Global Interpreter Lock) 全局解释锁。\n",
    "\n",
    "首先，我们要知道：\n",
    "\n",
    "1. 解释器\n",
    "Python 的运行是由解释器将代码逐行翻译成字节码的形式来运行的，如果Python进程有写文件的权限，它就会在__pycache__ 目录下以.pyc 文件形式存储翻译过的字节码文件。此外，Python 会自动检查源文件和字节码文件最后一次修改的时间戳，确认是否需要重新编译。\n",
    "\n",
    "\n",
    "2. 多线程\n",
    "Python 的线程是真正的系统线程，交由系统进行管理和调度，这就引出一个问题，Python 的解释器并不知道此刻在运行哪个线程，解释器也就不知道该翻译哪一部分代码。\n",
    "\n",
    "此外，Python的解释器有很多实现，官方使用的是 CPython，而 CPython 为了让解释器多线程运行更方便，引入了 GIL 对解释器加锁进行保护。其代价则是牺牲了在多处理器上的并行性。**后续我们讨论的，默认都是基于 CPython 解释器的**\n",
    "\n",
    "那么：\n",
    "\n",
    "3. 线程会一直持有 GIL 直到运行结束吗？\n",
    "\n",
    "不会，一个线程有两种情况下会释放全局解释器锁，一种情况是在该线程进入IO操作之前，会主动释放GIL，另一种情况是解释器不间断运行15毫秒（Py3）后，该线程也会放弃GIL。\n",
    "\n",
    "4. 这样 Python 还需要考虑线程安全的问题吗？\n",
    "\n",
    "需要，因为同一段代码，每次执行，线程的执行顺序仍是不确定的，那么仍然存在线程安全的问题。"
   ]
  },
  {
   "cell_type": "markdown",
   "metadata": {},
   "source": [
    "\n",
    "### 2. 装饰器\n",
    "\n",
    "装饰器本质上是一个返回可调用对象的可调用对象.\n",
    "\n",
    "函数装饰器的工作方式本质上是进行函数名称的重绑定。其中嵌套函数编写的函数装饰器是最佳实践。"
   ]
  },
  {
   "cell_type": "code",
   "execution_count": 1,
   "metadata": {},
   "outputs": [
    {
     "name": "stdout",
     "output_type": "stream",
     "text": [
      "actually calling wrapper\n"
     ]
    },
    {
     "data": {
      "text/plain": [
       "3"
      ]
     },
     "execution_count": 1,
     "metadata": {},
     "output_type": "execute_result"
    }
   ],
   "source": [
    "def decorator(func):\n",
    "    def wrapper(*args):\n",
    "        print('actually calling wrapper')\n",
    "        return func(*args)\n",
    "    return wrapper\n",
    "\n",
    "# func = decorator(func)\n",
    "@decorator\n",
    "def func(x, y):\n",
    "    return x + y\n",
    "\n",
    "func(1, 2)"
   ]
  },
  {
   "cell_type": "markdown",
   "metadata": {},
   "source": [
    "类装饰器不包装单个函数或方法而是进行类的管理或是使用额外逻辑来实现实例构造应用的一种方式。"
   ]
  },
  {
   "cell_type": "code",
   "execution_count": 2,
   "metadata": {},
   "outputs": [
    {
     "data": {
      "text/plain": [
       "__main__.decorator.<locals>.Wrapper"
      ]
     },
     "execution_count": 2,
     "metadata": {},
     "output_type": "execute_result"
    }
   ],
   "source": [
    "def decorator(cls):\n",
    "    class Wrapper:\n",
    "        def __init__(self, *args):\n",
    "            self.wrapped = cls(*args)\n",
    "            \n",
    "        def __getattr__(self, name):\n",
    "            return getattr(self.wrapped, name)\n",
    "    return Wrapper\n",
    "\n",
    "@decorator\n",
    "class C:\n",
    "    def __init__(self, x, y):\n",
    "        self.attr = 'spam'\n",
    "\n",
    "c = C(1, 2)\n",
    "type(c)"
   ]
  },
  {
   "cell_type": "code",
   "execution_count": 3,
   "metadata": {},
   "outputs": [
    {
     "data": {
      "text/plain": [
       "True"
      ]
     },
     "execution_count": 3,
     "metadata": {},
     "output_type": "execute_result"
    }
   ],
   "source": [
    "def singleton(cls):\n",
    "    instance = None\n",
    "    def wrapper(*args, **kargs):\n",
    "        nonlocal instance\n",
    "        if not instance:\n",
    "            instance = cls(*args, **kargs)\n",
    "        return instance\n",
    "    return wrapper\n",
    "\n",
    "@singleton\n",
    "class S:\n",
    "    \n",
    "    def __init__(self, name):\n",
    "        self.name = name\n",
    "\n",
    "s1 = S('s1')\n",
    "s2 = S('s2')\n",
    "s1 is s2"
   ]
  },
  {
   "cell_type": "markdown",
   "metadata": {},
   "source": [
    "### 3. 描述符\n",
    "\n",
    "descriptor 提供了拦截属性访问的另一种方法，它允许我们将一个特定属性的操作指向我们提供的一个单独的类对象的方法。即，一个描述器只能管理单个的，指定的属性。\n",
    "\n",
    "property 实际上就是一个描述器创建的简便方式。\n",
    "\n",
    "所有带有：\n",
    "\n",
    "1. `__get__(self, instance, owner)`\n",
    "2. `__set__(self, instance, value)`\n",
    "3. `__delete__(self, instance)`\n",
    "\n",
    "方法的类都可以称之为描述器。其中，owner 指的是这个描述器实例所依附的类，而 instance 要么是被访问的属性所属的实例，要么所访问的属性直接属于类时是None。"
   ]
  },
  {
   "cell_type": "code",
   "execution_count": 4,
   "metadata": {},
   "outputs": [
    {
     "name": "stdout",
     "output_type": "stream",
     "text": [
      "getting, args:  <__main__.IntDescriptor object at 0x105aa8750> <__main__.Number object at 0x105aa8790> <class '__main__.Number'>\n",
      "setting\n"
     ]
    },
    {
     "ename": "ValueError",
     "evalue": "this property should be an integer",
     "output_type": "error",
     "traceback": [
      "\u001b[0;31m---------------------------------------------------------------------------\u001b[0m",
      "\u001b[0;31mValueError\u001b[0m                                Traceback (most recent call last)",
      "\u001b[0;32m<ipython-input-4-1779514d5c99>\u001b[0m in \u001b[0;36m<module>\u001b[0;34m\u001b[0m\n\u001b[1;32m     23\u001b[0m \u001b[0mnum\u001b[0m \u001b[0;34m=\u001b[0m \u001b[0mNumber\u001b[0m\u001b[0;34m(\u001b[0m\u001b[0;34m)\u001b[0m\u001b[0;34m\u001b[0m\u001b[0;34m\u001b[0m\u001b[0m\n\u001b[1;32m     24\u001b[0m \u001b[0mnum\u001b[0m\u001b[0;34m.\u001b[0m\u001b[0mval\u001b[0m\u001b[0;34m\u001b[0m\u001b[0;34m\u001b[0m\u001b[0m\n\u001b[0;32m---> 25\u001b[0;31m \u001b[0mnum\u001b[0m\u001b[0;34m.\u001b[0m\u001b[0mval\u001b[0m \u001b[0;34m=\u001b[0m \u001b[0;34m'abc'\u001b[0m\u001b[0;34m\u001b[0m\u001b[0;34m\u001b[0m\u001b[0m\n\u001b[0m",
      "\u001b[0;32m<ipython-input-4-1779514d5c99>\u001b[0m in \u001b[0;36m__set__\u001b[0;34m(self, instance, value)\u001b[0m\n\u001b[1;32m     10\u001b[0m     \u001b[0;32mdef\u001b[0m \u001b[0m__set__\u001b[0m\u001b[0;34m(\u001b[0m\u001b[0mself\u001b[0m\u001b[0;34m,\u001b[0m \u001b[0minstance\u001b[0m\u001b[0;34m,\u001b[0m \u001b[0mvalue\u001b[0m\u001b[0;34m)\u001b[0m\u001b[0;34m:\u001b[0m\u001b[0;34m\u001b[0m\u001b[0;34m\u001b[0m\u001b[0m\n\u001b[1;32m     11\u001b[0m         \u001b[0mprint\u001b[0m\u001b[0;34m(\u001b[0m\u001b[0;34m'setting'\u001b[0m\u001b[0;34m)\u001b[0m\u001b[0;34m\u001b[0m\u001b[0;34m\u001b[0m\u001b[0m\n\u001b[0;32m---> 12\u001b[0;31m         \u001b[0;32mif\u001b[0m \u001b[0;32mnot\u001b[0m \u001b[0misinstance\u001b[0m\u001b[0;34m(\u001b[0m\u001b[0mvalue\u001b[0m\u001b[0;34m,\u001b[0m \u001b[0mint\u001b[0m\u001b[0;34m)\u001b[0m\u001b[0;34m:\u001b[0m \u001b[0;32mraise\u001b[0m \u001b[0mValueError\u001b[0m\u001b[0;34m(\u001b[0m\u001b[0;34m'this property should be an integer'\u001b[0m\u001b[0;34m)\u001b[0m\u001b[0;34m\u001b[0m\u001b[0;34m\u001b[0m\u001b[0m\n\u001b[0m\u001b[1;32m     13\u001b[0m         \u001b[0mself\u001b[0m\u001b[0;34m.\u001b[0m\u001b[0mnumber\u001b[0m \u001b[0;34m=\u001b[0m \u001b[0mvalue\u001b[0m\u001b[0;34m\u001b[0m\u001b[0;34m\u001b[0m\u001b[0m\n\u001b[1;32m     14\u001b[0m \u001b[0;34m\u001b[0m\u001b[0m\n",
      "\u001b[0;31mValueError\u001b[0m: this property should be an integer"
     ]
    }
   ],
   "source": [
    "class IntDescriptor:\n",
    "    \n",
    "    number = 0\n",
    "    \n",
    "    def __get__(self, instance, owner):\n",
    "        print('getting, args: ', self, instance, owner)\n",
    "        return self.number\n",
    "    \n",
    "    # 没有此方法也不会变成只读的; 需要通过引发异常来支持只读属性\n",
    "    def __set__(self, instance, value):\n",
    "        print('setting')\n",
    "        if not isinstance(value, int): raise ValueError('this property should be an integer')\n",
    "        self.number = value\n",
    "        \n",
    "    def __delete__(self, instance):\n",
    "        print('deleting')\n",
    "        del self\n",
    "        \n",
    "class Number:\n",
    "    \n",
    "    val = IntDescriptor()\n",
    "    \n",
    "num = Number()\n",
    "num.val\n",
    "num.val = 'abc'"
   ]
  },
  {
   "cell_type": "markdown",
   "metadata": {},
   "source": [
    "### 4. 元类\n",
    "\n",
    "在 Python 中类是 type 的实例，实例创建自类，而类创建自 type。元类是 type 的子类，通过 class 协议来拦截类的创建和初始化过程。\n",
    "\n",
    "class 的过程实际上是：\n",
    "\n",
    "class = type(classname, superclasses, attributedict)\n",
    "type 对象定义了一个 __call__ 运算符重载方法，当被调用时，该方法运行：\n",
    "\n",
    "type.new(typeclass, classname, superclasses, attributedict)\n",
    "type.init(class, classname, superclasses, attributedict)"
   ]
  },
  {
   "cell_type": "code",
   "execution_count": null,
   "metadata": {},
   "outputs": [],
   "source": [
    "class Meta(type):\n",
    "    def __new__(meta, classname, supers, classdict):\n",
    "        print(meta, classname, supers, classdict)\n",
    "        return type.__new__(meta, classname, supers, classdict)\n",
    "\n",
    "class Eggs: pass\n",
    "\n",
    "class Spam(Eggs, metaclass=Meta):\n",
    "    data = 1\n",
    "    def meth(self, arg):\n",
    "        return self.data + arg\n",
    "    \n",
    "X = Spam()"
   ]
  },
  {
   "cell_type": "markdown",
   "metadata": {},
   "source": [
    "### 5. 如何优化代码"
   ]
  },
  {
   "cell_type": "markdown",
   "metadata": {},
   "source": [
    "\n",
    "### 6. 运算符重载\n",
    "\n",
    "```python\n",
    "    # 索引和分片\n",
    "    def __getitem__(self, index):\n",
    "        return self.list[index]\n",
    "    \n",
    "    def __setitem__(self, index, value):\n",
    "        self.list[index] = value\n",
    "    \n",
    "    # 迭代\n",
    "    def __iter__(self):\n",
    "        return self\n",
    "    \n",
    "    # 迭代器\n",
    "    def __next__(self):\n",
    "        if self.index == len(self.list): raise StopIteration\n",
    "        else:\n",
    "            self.index += 1\n",
    "            return self.list[self.index - 1]\n",
    "        \n",
    "    # 布尔测试和成员查找\n",
    "    def __bool__(self): return len(self.list) > 0\n",
    "    \n",
    "    def __len__(self): return len(self.list)\n",
    "    \n",
    "    def __contains__(self, x): return x in self.list\n",
    "    \n",
    "    \n",
    "    # 拦截所有未定义的属性调用\n",
    "    def __getattr__(self, attr):\n",
    "        if attr not in self.attrs: raise AttributeError(attr)\n",
    "    \n",
    "    # 拦截所有属性赋值\n",
    "    def __setattr__(self, attr, value):\n",
    "        if attr in self.attrs: self.__dict__[attr] = value # 如果在这里进行点号运算属性赋值就会产生递归调用\n",
    "        else: raise AttributeError(attr)\n",
    "    \n",
    "    # 调用表达式\n",
    "    def __call__(self, *args, **kargs):\n",
    "        print('Called:', args, kargs)\n",
    "\n",
    "    # __getattribute__ 比 __getattr__ 更强大因为它拦截所有属性的访问，而不仅仅是未定义的。使用它时要避免通过属性访问传递给父类而导致递归。\n",
    "    def __getattribute__(self, attr):\n",
    "        if attr == 'name': attr = '_name'\n",
    "        return object.__getattribute__(self, attr) # 使用更高的父类以避免递归\n",
    "```"
   ]
  },
  {
   "cell_type": "markdown",
   "metadata": {},
   "source": [
    "### 7.协程"
   ]
  },
  {
   "cell_type": "markdown",
   "metadata": {},
   "source": [
    "### 8.  flask 处理请求上下文"
   ]
  },
  {
   "cell_type": "markdown",
   "metadata": {},
   "source": [
    "### 9. ORM"
   ]
  }
 ],
 "metadata": {
  "kernelspec": {
   "display_name": "Python 3",
   "language": "python",
   "name": "python3"
  },
  "language_info": {
   "codemirror_mode": {
    "name": "ipython",
    "version": 3
   },
   "file_extension": ".py",
   "mimetype": "text/x-python",
   "name": "python",
   "nbconvert_exporter": "python",
   "pygments_lexer": "ipython3",
   "version": "3.7.4"
  }
 },
 "nbformat": 4,
 "nbformat_minor": 4
}
