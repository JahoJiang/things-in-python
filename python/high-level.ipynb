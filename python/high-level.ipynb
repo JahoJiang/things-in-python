{
 "cells": [
  {
   "cell_type": "markdown",
   "metadata": {},
   "source": [
    "### 7.被管理的属性\n",
    "\n",
    "#### 7.1 property\n",
    "\n",
    "property 协议允许我们把一个特定属性的获取/赋值/删除等操作指向我们所提供的函数。通过 property 可以实现懒加载的动态属性，只有在访问时才计算并返回一个值。\n",
    "\n",
    "用法：\n",
    "\n",
    "1. attribute = property(fget, fset, fdel, doc) # 没有fset就变成了只读的\n",
    "2. 装饰器"
   ]
  },
  {
   "cell_type": "code",
   "execution_count": 1,
   "metadata": {},
   "outputs": [],
   "source": [
    "class Person:\n",
    "    \n",
    "    def __init__(self, name): self._name = name\n",
    "        \n",
    "    def get_name(self):\n",
    "        print('getting name')\n",
    "        return self._name\n",
    "    \n",
    "    def set_name(self, val):\n",
    "        print('setting name')\n",
    "        self._name = val\n",
    "        \n",
    "    def del_name(self):\n",
    "        print('deleting name')\n",
    "        del self._name\n",
    "        \n",
    "    name = property(get_name, set_name, del_name, 'name property docs')\n",
    "    \n",
    "jade = Person('jade')\n",
    "jade.name"
   ]
  },
  {
   "cell_type": "code",
   "execution_count": 2,
   "metadata": {},
   "outputs": [],
   "source": [
    "jade.name = 'Jade'"
   ]
  },
  {
   "cell_type": "code",
   "execution_count": 3,
   "metadata": {},
   "outputs": [],
   "source": [
    "del jade.name"
   ]
  },
  {
   "cell_type": "code",
   "execution_count": 4,
   "metadata": {},
   "outputs": [
    {
     "data": {
      "text/plain": [
       "'bob'"
      ]
     },
     "execution_count": 4,
     "metadata": {},
     "output_type": "execute_result"
    }
   ],
   "source": [
    "class Person:\n",
    "\n",
    "    def __init__(self, name): self._name = name\n",
    "\n",
    "    @property\n",
    "    def name(self):\n",
    "        print('fetching name')\n",
    "        return self._name\n",
    "    \n",
    "    @name.setter\n",
    "    def name(self, val):\n",
    "        print('changing name')\n",
    "        self._name = val\n",
    "    \n",
    "    @name.deleter\n",
    "    def name(self):\n",
    "        print('removing name')\n",
    "        del self._name\n",
    "        \n",
    "bob = Person('bob')\n",
    "bob.name"
   ]
  },
  {
   "cell_type": "code",
   "execution_count": 5,
   "metadata": {},
   "outputs": [
    {
     "name": "stdout",
     "output_type": "stream",
     "text": [
      "changing name\n"
     ]
    }
   ],
   "source": [
    "bob.name = 'Bob'"
   ]
  },
  {
   "cell_type": "code",
   "execution_count": 6,
   "metadata": {},
   "outputs": [
    {
     "name": "stdout",
     "output_type": "stream",
     "text": [
      "removing name\n"
     ]
    }
   ],
   "source": [
    "del bob.name"
   ]
  },
  {
   "cell_type": "markdown",
   "metadata": {},
   "source": [
    "#### 7.2 描述器\n",
    "\n",
    "descriptor 提供了拦截属性访问的另一种方法，它允许我们将一个特定属性的操作指向我们提供的一个单独的类对象的方法。即，一个描述器只能管理单个的，指定的属性。\n",
    "\n",
    "property 实际上就是一个描述器创建的简便方式。\n",
    "\n",
    "所有带有：\n",
    "\n",
    "1. `__get__(self, instance, owner)`\n",
    "2. `__set__(self, instance, value)`\n",
    "3. `__delete__(self, instance)`\n",
    "\n",
    "方法的类都可以称之为描述器。其中，owner 指的是这个描述器实例所依附的类，而 instance 要么是被访问的属性所属的实例，要么所访问的属性直接属于类时是None。"
   ]
  },
  {
   "cell_type": "code",
   "execution_count": 7,
   "metadata": {},
   "outputs": [
    {
     "name": "stdout",
     "output_type": "stream",
     "text": [
      "getting, args:  <__main__.IntDescriptor object at 0x10777c150> <__main__.Number object at 0x10777c2d0> <class '__main__.Number'>\n"
     ]
    },
    {
     "data": {
      "text/plain": [
       "0"
      ]
     },
     "execution_count": 7,
     "metadata": {},
     "output_type": "execute_result"
    }
   ],
   "source": [
    "class IntDescriptor:\n",
    "    \n",
    "    number = 0\n",
    "    \n",
    "    def __get__(self, instance, owner):\n",
    "        print('getting, args: ', self, instance, owner)\n",
    "        return self.number\n",
    "    \n",
    "    # 没有此方法也不会变成只读的，需要通过引发异常来支持只读属性\n",
    "    def __set__(self, instance, value):\n",
    "        print('setting')\n",
    "        if not isinstance(value, int): raise ValueError('this property should be an integer')\n",
    "        self.number = value\n",
    "        \n",
    "    def __delete__(self, instance):\n",
    "        print('deleting')\n",
    "        del self\n",
    "        \n",
    "class Number:\n",
    "    \n",
    "    val = IntDescriptor()\n",
    "    \n",
    "num = Number()\n",
    "num.val"
   ]
  },
  {
   "cell_type": "code",
   "execution_count": 8,
   "metadata": {},
   "outputs": [
    {
     "name": "stdout",
     "output_type": "stream",
     "text": [
      "setting\n"
     ]
    }
   ],
   "source": [
    "num.val = 10"
   ]
  },
  {
   "cell_type": "code",
   "execution_count": 9,
   "metadata": {},
   "outputs": [
    {
     "name": "stdout",
     "output_type": "stream",
     "text": [
      "deleting\n"
     ]
    }
   ],
   "source": [
    "del num.val"
   ]
  },
  {
   "cell_type": "code",
   "execution_count": 10,
   "metadata": {},
   "outputs": [
    {
     "name": "stdout",
     "output_type": "stream",
     "text": [
      "getting, args:  <__main__.IntDescriptor object at 0x10777c150> None <class '__main__.Number'>\n"
     ]
    },
    {
     "data": {
      "text/plain": [
       "10"
      ]
     },
     "execution_count": 10,
     "metadata": {},
     "output_type": "execute_result"
    }
   ],
   "source": [
    "Number.val"
   ]
  },
  {
   "cell_type": "markdown",
   "metadata": {},
   "source": [
    "### 8. 装饰器\n",
    "\n",
    "#### 8.1 函数装饰器\n",
    "装饰器自身是一个返回可调用对象的可调用对象。本质上是进行函数名称的重绑定。其中嵌套函数编写的函数装饰器是最佳实践。"
   ]
  },
  {
   "cell_type": "code",
   "execution_count": 11,
   "metadata": {},
   "outputs": [
    {
     "name": "stdout",
     "output_type": "stream",
     "text": [
      "actually calling wrapper\n"
     ]
    },
    {
     "data": {
      "text/plain": [
       "3"
      ]
     },
     "execution_count": 11,
     "metadata": {},
     "output_type": "execute_result"
    }
   ],
   "source": [
    "def decorator(func):\n",
    "    def wrapper(*args):\n",
    "        print('actually calling wrapper')\n",
    "        return func(*args)\n",
    "    return wrapper\n",
    "\n",
    "# func = decorator(func)\n",
    "@decorator\n",
    "def func(x, y):\n",
    "    return x + y\n",
    "\n",
    "func(1, 2)"
   ]
  },
  {
   "cell_type": "markdown",
   "metadata": {},
   "source": [
    "#### 8.2 类装饰器\n",
    "类装饰器不包装单个函数或方法而是进行类的管理或是使用额外逻辑来实现实例构造应用的一种方式。"
   ]
  },
  {
   "cell_type": "code",
   "execution_count": 12,
   "metadata": {},
   "outputs": [
    {
     "data": {
      "text/plain": [
       "__main__.decorator.<locals>.Wrapper"
      ]
     },
     "execution_count": 12,
     "metadata": {},
     "output_type": "execute_result"
    }
   ],
   "source": [
    "def decorator(cls):\n",
    "    class Wrapper:\n",
    "        def __init__(self, *args):\n",
    "            self.wrapped = cls(*args)\n",
    "            \n",
    "        def __getattr__(self, name):\n",
    "            return getattr(self.wrapped, name)\n",
    "    return Wrapper\n",
    "\n",
    "@decorator\n",
    "class C:\n",
    "    def __init__(self, x, y):\n",
    "        self.attr = 'spam'\n",
    "\n",
    "c = C(1, 2)\n",
    "type(c)"
   ]
  },
  {
   "cell_type": "code",
   "execution_count": 13,
   "metadata": {},
   "outputs": [
    {
     "data": {
      "text/plain": [
       "True"
      ]
     },
     "execution_count": 13,
     "metadata": {},
     "output_type": "execute_result"
    }
   ],
   "source": [
    "def singleton(cls):\n",
    "    instance = None\n",
    "    def wrapper(*args, **kargs):\n",
    "        nonlocal instance\n",
    "        if not instance:\n",
    "            instance = cls(*args, **kargs)\n",
    "        return instance\n",
    "    return wrapper\n",
    "\n",
    "@singleton\n",
    "class S:\n",
    "    \n",
    "    def __init__(self, name):\n",
    "        self.name = name\n",
    "\n",
    "s1 = S('s')\n",
    "s2 = S('s')\n",
    "s1 is s2"
   ]
  },
  {
   "cell_type": "code",
   "execution_count": 14,
   "metadata": {},
   "outputs": [
    {
     "name": "stdout",
     "output_type": "stream",
     "text": [
      "hello param\n"
     ]
    },
    {
     "data": {
      "text/plain": [
       "3"
      ]
     },
     "execution_count": 14,
     "metadata": {},
     "output_type": "execute_result"
    }
   ],
   "source": [
    "def dec(A, B):\n",
    "    print(A, B)\n",
    "    def actuall(func):\n",
    "        def call(*args):\n",
    "            return func(*args)\n",
    "        return call\n",
    "    return actuall\n",
    "\n",
    "@dec(A='hello', B='param')\n",
    "def func(x, y):\n",
    "    return x + y\n",
    "\n",
    "func(1, 2)"
   ]
  },
  {
   "cell_type": "markdown",
   "metadata": {},
   "source": [
    "### 9. 元类\n",
    "\n",
    "在 Python 中类是 type 的实例，实例创建自类，而类创建自 type。元类是 type 的子类，通过 class 协议来拦截类的创建和初始化过程。\n",
    "\n",
    "class 的过程实际上是：\n",
    "```python\n",
    "class = type(classname, superclasses, attributedict)\n",
    "```\n",
    "\n",
    "type 对象定义了一个 `__call__` 运算符重载方法，当被调用时，该方法运行：\n",
    "\n",
    "1. type.__new__(typeclass, classname, superclasses, attributedict)\n",
    "2. type.__init__(class, classname, superclasses, attributedict)"
   ]
  },
  {
   "cell_type": "code",
   "execution_count": 15,
   "metadata": {},
   "outputs": [
    {
     "name": "stdout",
     "output_type": "stream",
     "text": [
      "<class '__main__.Meta'> Spam (<class '__main__.Eggs'>,) {'__module__': '__main__', '__qualname__': 'Spam', 'data': 1, 'meth': <function Spam.meth at 0x10778c950>}\n"
     ]
    }
   ],
   "source": [
    "class Meta(type):\n",
    "    def __new__(meta, classname, supers, classdict):\n",
    "        print(meta, classname, supers, classdict)\n",
    "        return type.__new__(meta, classname, supers, classdict)\n",
    "\n",
    "class Eggs: pass\n",
    "\n",
    "class Spam(Eggs, metaclass=Meta):\n",
    "    data = 1\n",
    "    def meth(self, arg):\n",
    "        return self.data + arg\n",
    "    \n",
    "X = Spam()"
   ]
  },
  {
   "cell_type": "code",
   "execution_count": 16,
   "metadata": {},
   "outputs": [
    {
     "data": {
      "text/plain": [
       "2"
      ]
     },
     "execution_count": 16,
     "metadata": {},
     "output_type": "execute_result"
    }
   ],
   "source": [
    "X.meth(1)"
   ]
  },
  {
   "cell_type": "code",
   "execution_count": 17,
   "metadata": {},
   "outputs": [
    {
     "name": "stdout",
     "output_type": "stream",
     "text": [
      "In MetaObj.call:\n",
      "Sub\n",
      "(<class '__main__.Super'>,)\n",
      "{'__module__': '__main__', '__qualname__': 'Sub', 'data': 1, 'add': <function Sub.add at 0x10779b560>}\n",
      "In MetaObj.new: \n",
      "Sub\n",
      "(<class '__main__.Super'>,)\n",
      "{'__module__': '__main__', '__qualname__': 'Sub', 'data': 1, 'add': <function Sub.add at 0x10779b560>}\n",
      "In MetaObj.init: \n",
      "Sub\n",
      "(<class '__main__.Super'>,)\n",
      "{'__module__': '__main__', '__qualname__': 'Sub', 'data': 1, 'add': <function Sub.add at 0x10779b560>}\n"
     ]
    },
    {
     "data": {
      "text/plain": [
       "3"
      ]
     },
     "execution_count": 17,
     "metadata": {},
     "output_type": "execute_result"
    }
   ],
   "source": [
    "class MetaObj:\n",
    "    '''\n",
    "    通过普通类模仿 type 机制\n",
    "    '''\n",
    "    \n",
    "    def __call__(self, classname, supers, classdict):\n",
    "        print('In MetaObj.call:', classname, supers, classdict, sep='\\n')\n",
    "        Class = self.__New__(classname, supers, classdict)\n",
    "        self.__Init__(Class, classname, supers, classdict)\n",
    "        return Class\n",
    "    \n",
    "    def __New__(self, classname, supers, classdict):\n",
    "        print('In MetaObj.new: ', classname, supers, classdict, sep='\\n')\n",
    "        return type(classname, supers, classdict)\n",
    "    \n",
    "    def __Init__(self, Class, classname, supers, classdict, sep='\\n'):\n",
    "        print('In MetaObj.init: ', classname, supers, classdict, sep='\\n')\n",
    "        \n",
    "class Super: pass\n",
    "class Sub(Super, metaclass=MetaObj()):\n",
    "    data = 1\n",
    "    def add(self, arg):\n",
    "        return self.data + arg\n",
    "\n",
    "sub = Sub()\n",
    "sub.add(2)"
   ]
  },
  {
   "cell_type": "code",
   "execution_count": 18,
   "metadata": {},
   "outputs": [
    {
     "name": "stdout",
     "output_type": "stream",
     "text": [
      "adding func square\n"
     ]
    },
    {
     "data": {
      "text/plain": [
       "81"
      ]
     },
     "execution_count": 18,
     "metadata": {},
     "output_type": "execute_result"
    }
   ],
   "source": [
    "def square(obj):\n",
    "    return obj.val ** 2\n",
    "\n",
    "class Extender(type):\n",
    "    \n",
    "    def __new__(meta, classname, supers, classdict):\n",
    "        print('adding func square')\n",
    "        classdict['square'] = square\n",
    "        return type.__new__(meta, classname, supers, classdict)\n",
    "    \n",
    "class Operator(metaclass=Extender):\n",
    "    \n",
    "    def __init__(self, val):\n",
    "        self.val = val\n",
    "        \n",
    "op = Operator(9)\n",
    "op.square()"
   ]
  }
 ],
 "metadata": {
  "kernelspec": {
   "display_name": "Python 3",
   "language": "python",
   "name": "python3"
  },
  "language_info": {
   "codemirror_mode": {
    "name": "ipython",
    "version": 3
   },
   "file_extension": ".py",
   "mimetype": "text/x-python",
   "name": "python",
   "nbconvert_exporter": "python",
   "pygments_lexer": "ipython3",
   "version": "3.7.4"
  }
 },
 "nbformat": 4,
 "nbformat_minor": 4
}
