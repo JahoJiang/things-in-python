{
 "cells": [
  {
   "cell_type": "markdown",
   "metadata": {},
   "source": [
    "* 爬楼梯 => 不允许到达7的倍数层 => 优化为线性（不能使用动态规划\n",
    "\n",
    "* HashMap是怎么添加元素的 \n",
    "\n",
    "* 扔鸡蛋问题的变种 研究毒死小白鼠的最小剂量 给出了二分 后来查了要dp\n",
    "\n",
    "* 一个先递增后递减的数组找出独特元素的个数，先用set 需要O(n)的时间复杂度 然后写了个双指针 写完了也不用跑就结束了\n",
    "\n",
    "* 旋转数组的最小数字\n",
    "\n",
    "* 判断二叉树是否为平衡二叉树\n",
    "\n",
    "* 给定一个int数组A，给定一个数 x，求所有求和能得到x的数字组合，组合中的元素来自A\n",
    "\n",
    "* 场景 买票 A 到 B 最少票价\n",
    "\n",
    "* B+树特点 \n",
    "\n",
    "* 12个球 一个不一样，轻或重，秤几次可以找到 \n",
    "\n",
    "* 回文链表\n",
    "\n",
    "* 接雨水 \n",
    "\n",
    "* 算法 一堆木头，要锯出k段，找每段的最大长度。例如【4，7，2，10，5】，k=5，最大为「4」。\n",
    "\n",
    "* 合并k个有序数组，先说思路，说了两两合并、分治。让写分治 \n",
    "\n",
    "* 64匹马，8个赛道，最少比多少次能找到最快的4匹。\n",
    "\n",
    "* 拉链法解决冲突，插入链表时不安全，并发操作可能导致另一个插入失效\n",
    "\n",
    "* N 场演唱会, 以 [{startTime, endTime}…] 的形式给出, 计算出最多能听几场演唱会\n",
    "\n",
    "* 手撕：输入一链表，将奇数位的节点升序排列放在链表前面，偶数位的节点降序排列放在链表后面，输出新的链表"
   ]
  }
 ],
 "metadata": {
  "kernelspec": {
   "display_name": "Python 3",
   "language": "python",
   "name": "python3"
  },
  "language_info": {
   "codemirror_mode": {
    "name": "ipython",
    "version": 3
   },
   "file_extension": ".py",
   "mimetype": "text/x-python",
   "name": "python",
   "nbconvert_exporter": "python",
   "pygments_lexer": "ipython3",
   "version": "3.7.4"
  }
 },
 "nbformat": 4,
 "nbformat_minor": 4
}
