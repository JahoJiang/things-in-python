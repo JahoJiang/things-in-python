{
 "cells": [
  {
   "cell_type": "markdown",
   "metadata": {},
   "source": [
    "## 快速排序\n",
    "\n",
    "快速排序是一种基于分治思想的排序，他将一个数组分为两个子数组，将两部分进行独立地排序。归并排序将数组分成两个子数组分别排序，并将有序的子数组归并以将整个数组排序；而快速排序将数组排序的方式是：当两个子数组都有序时整个数组就自然地有序了。"
   ]
  },
  {
   "cell_type": "code",
   "execution_count": 7,
   "metadata": {},
   "outputs": [
    {
     "name": "stdout",
     "output_type": "stream",
     "text": [
      "Nums\t:  [19, 9, 8, 1, 5, 4, 12, 18, 15, 14, 2, 10, 0, 11, 3, 17, 6, 7, 16, 13]\n",
      "Sorted\t:  [0, 1, 2, 3, 4, 5, 6, 7, 8, 9, 10, 11, 12, 13, 14, 15, 16, 17, 18, 19]\n"
     ]
    }
   ],
   "source": [
    "import random\n",
    "\n",
    "def quick_sort(nums):\n",
    "    print('Nums\\t: ', nums)\n",
    "    \n",
    "    def partition(nums, lo, hi):\n",
    "        pivot, i, j = nums[lo], lo + 1, hi\n",
    "        while True:\n",
    "            \n",
    "            while i <= j and nums[i] < pivot: i += 1\n",
    "                \n",
    "            while i <= j and nums[j] > pivot: j -= 1\n",
    "            \n",
    "            if i >= j: break\n",
    "            \n",
    "            nums[i], nums[j] = nums[j], nums[i]\n",
    "        nums[lo], nums[j] = nums[j], nums[lo]\n",
    "        return j\n",
    "\n",
    "    def sort(nums, lo, hi):\n",
    "        if hi <= lo: return\n",
    "        pos = partition(nums, lo, hi)\n",
    "        sort(nums, lo, pos - 1)\n",
    "        sort(nums, pos + 1, hi)\n",
    "    \n",
    "    sort(nums, 0, len(nums) - 1)\n",
    "    print('Sorted\\t: ', nums)\n",
    "    \n",
    "\n",
    "nums = [19, 9, 8, 1, 5, 4, 12, 18, 15, 14, 2, 10, 0, 11, 3, 17, 6, 7, 16, 13]\n",
    "quick_sort(nums)"
   ]
  },
  {
   "cell_type": "markdown",
   "metadata": {},
   "source": [
    "## 归并排序\n",
    "归并排序将数组分成两个子数组分别排序，并将有序的子数组归并以将整个数组排序。"
   ]
  },
  {
   "cell_type": "code",
   "execution_count": 11,
   "metadata": {},
   "outputs": [
    {
     "name": "stdout",
     "output_type": "stream",
     "text": [
      "Nums\t:  [19, 9, 8, 1, 5, 4, 12, 18, 15, 14, 2, 10, 0, 11, 3, 17, 6, 7, 16, 13]\n",
      "Sorted\t:  [0, 1, 2, 3, 4, 5, 6, 7, 8, 9, 10, 11, 12, 13, 14, 15, 16, 17, 18, 19]\n"
     ]
    }
   ],
   "source": [
    "def merge_sort(nums):\n",
    "    print('Nums\\t: ', nums)\n",
    "    aux = [0] * len(nums)\n",
    "    def merge(nums, lo, mid, hi):\n",
    "        i, j = lo, mid + 1\n",
    "        for k in range(lo, hi + 1): aux[k] = nums[k]\n",
    "        \n",
    "        for k in range(lo, hi + 1):\n",
    "            if i > mid:\n",
    "                nums[k] = aux[j]\n",
    "                j += 1\n",
    "            elif j > hi:\n",
    "                nums[k] = aux[i]\n",
    "                i += 1\n",
    "            elif aux[i] < aux[j]:\n",
    "                nums[k] = aux[i]\n",
    "                i += 1\n",
    "            else:\n",
    "                nums[k] = aux[j]\n",
    "                j += 1\n",
    "    \n",
    "    def sort(nums, lo, hi):\n",
    "        if hi <= lo: return\n",
    "        mid = (lo + hi) >> 1\n",
    "        sort(nums, lo, mid)\n",
    "        sort(nums, mid + 1, hi)\n",
    "        merge(nums, lo, mid, hi)\n",
    "        \n",
    "    sort(nums, 0, len(nums) - 1)\n",
    "    print('Sorted\\t: ', nums)\n",
    "\n",
    "nums = [19, 9, 8, 1, 5, 4, 12, 18, 15, 14, 2, 10, 0, 11, 3, 17, 6, 7, 16, 13]\n",
    "merge_sort(nums)"
   ]
  }
 ],
 "metadata": {
  "kernelspec": {
   "display_name": "Python 3",
   "language": "python",
   "name": "python3"
  },
  "language_info": {
   "codemirror_mode": {
    "name": "ipython",
    "version": 3
   },
   "file_extension": ".py",
   "mimetype": "text/x-python",
   "name": "python",
   "nbconvert_exporter": "python",
   "pygments_lexer": "ipython3",
   "version": "3.7.4"
  }
 },
 "nbformat": 4,
 "nbformat_minor": 4
}
