{
 "cells": [
  {
   "cell_type": "markdown",
   "metadata": {},
   "source": [
    "### 1. 如何计算算法复杂度？\n",
    "\n",
    "### 2. 设计 LRU？LFU？TRIE？\n",
    "\n",
    "### 3. 千万级字符串查找算法\n",
    "\n",
    "### 4. UNION-FIND\n",
    "\n",
    "### 5. 哈希碰撞"
   ]
  }
 ],
 "metadata": {
  "kernelspec": {
   "display_name": "Python 3",
   "language": "python",
   "name": "python3"
  },
  "language_info": {
   "codemirror_mode": {
    "name": "ipython",
    "version": 3
   },
   "file_extension": ".py",
   "mimetype": "text/x-python",
   "name": "python",
   "nbconvert_exporter": "python",
   "pygments_lexer": "ipython3",
   "version": "3.7.4"
  }
 },
 "nbformat": 4,
 "nbformat_minor": 4
}
